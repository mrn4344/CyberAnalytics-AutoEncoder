{
 "cells": [
  {
   "cell_type": "markdown",
   "metadata": {},
   "source": [
    "# Imports"
   ]
  },
  {
   "cell_type": "code",
   "execution_count": 1,
   "metadata": {},
   "outputs": [],
   "source": [
    "import random\n",
    "\n",
    "from qqdm.notebook import qqdm as qqdm\n",
    "\n",
    "import matplotlib.pyplot as plt\n",
    "import numpy as np\n",
    "import pandas as pd\n",
    "\n",
    "import pickle\n",
    "\n",
    "import torch\n",
    "from torch import nn\n",
    "from torch.utils.data import (DataLoader, RandomSampler, SequentialSampler, TensorDataset, Dataset)\n",
    "from torch.optim import Adam"
   ]
  },
  {
   "cell_type": "markdown",
   "metadata": {},
   "source": [
    "# Model"
   ]
  },
  {
   "cell_type": "code",
   "execution_count": 2,
   "metadata": {},
   "outputs": [],
   "source": [
    "class WeirdTrafficNet(nn.Module):\n",
    "\tdef __init__(self, in_dim):\n",
    "\t\tsuper(WeirdTrafficNet, self).__init__()\n",
    "\n",
    "\t\t#encoder_layer_dims = [in_dim, 31, 15, 6] #@30 epochs: train sep 7.7, 2/14 FTP 1.212, 2/14 SSH 0.461\n",
    "\t\t#encoder_layer_dims = [in_dim, 45, 25, 6] #@30 epochs: train sep 14.5, 2/14 FTP 1.437, 2/14 SSH 0.234\n",
    "\t\t#encoder_layer_dims = [in_dim, 45, 35, 6] #@30 epochs: train sep 11.2, 2/14 FTP 1.03, 2/14 SSH 0.49\n",
    "\t\t#encoder_layer_dims = [in_dim, 50, 35, 6] #@30 epochs: train sep 10.7, 2/14 FTP 0.529, 2/14 SSH 0.156\n",
    "\t\tencoder_layer_dims = [in_dim, 50, 35, 5] #@30 epochs: train sep 19.2, 2/14 FTP 2.04, 2/14 SSH 0.0006\n",
    "\t\trelu_inplace = True\n",
    "\n",
    "\t\tself.encoder = nn.Sequential(\n",
    "\t\t\tnn.Linear(encoder_layer_dims[0], encoder_layer_dims[1]),\n",
    "\t\t\tnn.ReLU(relu_inplace),\n",
    "\t\t\tnn.Linear(encoder_layer_dims[1], encoder_layer_dims[2]),\n",
    "\t\t\tnn.ReLU(relu_inplace),\n",
    "\t\t\tnn.Linear(encoder_layer_dims[2], encoder_layer_dims[3]),\n",
    "\t\t\tnn.ReLU(relu_inplace),\n",
    "\t\t)\n",
    "\n",
    "\t\tself.decoder = nn.Sequential(\n",
    "\t\t\tnn.Linear(encoder_layer_dims[3], encoder_layer_dims[2]),\n",
    "\t\t\tnn.ReLU(relu_inplace),\n",
    "\t\t\tnn.Linear(encoder_layer_dims[2], encoder_layer_dims[1]),\n",
    "\t\t\tnn.ReLU(relu_inplace),\n",
    "\t\t\tnn.Linear(encoder_layer_dims[1], encoder_layer_dims[0]),\n",
    "\t\t\tnn.Sigmoid()\n",
    "\t\t\t#nn.Tanh()\n",
    "\t\t\t#nn.ReLU()\n",
    "\t\t)\n",
    "\n",
    "\tdef forward(self, x):\n",
    "\t\tx = self.encoder(x)\n",
    "\t\tx = self.decoder(x)\n",
    "\t\treturn x"
   ]
  },
  {
   "cell_type": "markdown",
   "metadata": {},
   "source": [
    "# Load Data\n",
    "- Can concat all data into one dataframe"
   ]
  },
  {
   "cell_type": "code",
   "execution_count": 3,
   "metadata": {},
   "outputs": [],
   "source": [
    "#Run with all files for testing on the entire set\n",
    "# data1 = pd.read_csv('Friday-WorkingHours-Afternoon-DDos.csv')\n",
    "# data2 = pd.read_csv('Friday-WorkingHours-Afternoon-PortScan.csv')\n",
    "# data3 = pd.read_csv('Friday-WorkingHours-Morning.csv')\n",
    "# data4 = pd.read_csv('Monday-WorkingHours.csv')\n",
    "# data5 = pd.read_csv('Thursday-WorkingHours-Afternoon-Infilteration.csv')\n",
    "# data6 = pd.read_csv('Thursday-WorkingHours-Morning-WebAttacks.csv')\n",
    "# data7 = pd.read_csv('Tuesday-WorkingHours.csv')\n",
    "# data8 = pd.read_csv('Wednesday-workingHours.csv')\n",
    "\n",
    "# data = pd.concat([data1, data2, data3, data4, data5, data6, data7, data8])\n",
    "# del data1, data2, data3, data4, data5, data6, data7, data8\n",
    "\n",
    "#Run on just one day for testing\n",
    "data = pd.read_csv('Friday-WorkingHours-Afternoon-DDos.csv')"
   ]
  },
  {
   "cell_type": "markdown",
   "metadata": {},
   "source": [
    "# Make Columns Equivalent to CIC-IDS-2018"
   ]
  },
  {
   "cell_type": "code",
   "execution_count": 4,
   "metadata": {},
   "outputs": [
    {
     "name": "stdout",
     "output_type": "stream",
     "text": [
      "columns: [' Destination Port', ' Flow Duration', ' Total Fwd Packets', ' Total Backward Packets', 'Total Length of Fwd Packets', ' Total Length of Bwd Packets', ' Fwd Packet Length Max', ' Fwd Packet Length Min', ' Fwd Packet Length Mean', ' Fwd Packet Length Std', 'Bwd Packet Length Max', ' Bwd Packet Length Min', ' Bwd Packet Length Mean', ' Bwd Packet Length Std', 'Flow Bytes/s', ' Flow Packets/s', ' Flow IAT Mean', ' Flow IAT Std', ' Flow IAT Max', ' Flow IAT Min', 'Fwd IAT Total', ' Fwd IAT Mean', ' Fwd IAT Std', ' Fwd IAT Max', ' Fwd IAT Min', 'Bwd IAT Total', ' Bwd IAT Mean', ' Bwd IAT Std', ' Bwd IAT Max', ' Bwd IAT Min', 'Fwd PSH Flags', ' Bwd PSH Flags', ' Fwd URG Flags', ' Bwd URG Flags', ' Fwd Header Length', ' Bwd Header Length', 'Fwd Packets/s', ' Bwd Packets/s', ' Min Packet Length', ' Max Packet Length', ' Packet Length Mean', ' Packet Length Std', ' Packet Length Variance', 'FIN Flag Count', ' SYN Flag Count', ' RST Flag Count', ' PSH Flag Count', ' ACK Flag Count', ' URG Flag Count', ' CWE Flag Count', ' ECE Flag Count', ' Down/Up Ratio', ' Average Packet Size', ' Avg Fwd Segment Size', ' Avg Bwd Segment Size', ' Fwd Header Length.1', 'Fwd Avg Bytes/Bulk', ' Fwd Avg Packets/Bulk', ' Fwd Avg Bulk Rate', ' Bwd Avg Bytes/Bulk', ' Bwd Avg Packets/Bulk', 'Bwd Avg Bulk Rate', 'Subflow Fwd Packets', ' Subflow Fwd Bytes', ' Subflow Bwd Packets', ' Subflow Bwd Bytes', 'Init_Win_bytes_forward', ' Init_Win_bytes_backward', ' act_data_pkt_fwd', ' min_seg_size_forward', 'Active Mean', ' Active Std', ' Active Max', ' Active Min', 'Idle Mean', ' Idle Std', ' Idle Max', ' Idle Min', ' Label']\n"
     ]
    }
   ],
   "source": [
    "print('columns:',list(data.columns))"
   ]
  },
  {
   "cell_type": "code",
   "execution_count": 5,
   "metadata": {},
   "outputs": [],
   "source": [
    "cols_2018_to_2017 = {\n",
    "\t'Flow Duration'     : ' Flow Duration',\n",
    "\t'Tot Fwd Pkts'      : ' Total Fwd Packets',\n",
    "\t'Tot Bwd Pkts'      : ' Total Backward Packets',\n",
    "\t'TotLen Fwd Pkts'   : 'Total Length of Fwd Packets',\n",
    "\t'TotLen Bwd Pkts'   : ' Total Length of Bwd Packets',\n",
    "\t'Fwd Pkt Len Max'   : ' Fwd Packet Length Max',\n",
    "\t'Fwd Pkt Len Min'   : ' Fwd Packet Length Min',\n",
    "\t'Fwd Pkt Len Mean'  : ' Fwd Packet Length Mean',\n",
    "\t'Fwd Pkt Len Std'   : ' Fwd Packet Length Std',\n",
    "\t'Bwd Pkt Len Max'   : 'Bwd Packet Length Max',\n",
    "\t'Bwd Pkt Len Min'   : ' Bwd Packet Length Min',\n",
    "\t'Bwd Pkt Len Mean'  : ' Bwd Packet Length Mean',\n",
    "\t'Bwd Pkt Len Std'   : ' Bwd Packet Length Std',\n",
    "\t'Flow Byts/s'       : 'Flow Bytes/s',\n",
    "\t'Flow Pkts/s'       : ' Flow Packets/s',\n",
    "\t'Flow IAT Mean'     : ' Flow IAT Mean',\n",
    "\t'Flow IAT Std'      : ' Flow IAT Std',\n",
    "\t'Flow IAT Max'      : ' Flow IAT Max',\n",
    "\t'Flow IAT Min'      : ' Flow IAT Min',\n",
    "\t'Fwd IAT Tot'       : 'Fwd IAT Total',\n",
    "\t'Fwd IAT Mean'      : ' Fwd IAT Mean',\n",
    "\t'Fwd IAT Std'       : ' Fwd IAT Std',\n",
    "\t'Fwd IAT Max'       : ' Fwd IAT Max',\n",
    "\t'Fwd IAT Min'       : ' Fwd IAT Min',\n",
    "\t'Bwd IAT Tot'       : 'Bwd IAT Total',\n",
    "\t'Bwd IAT Mean'      : ' Bwd IAT Mean',\n",
    "\t'Bwd IAT Std'       : ' Bwd IAT Std',\n",
    "\t'Bwd IAT Max'       : ' Bwd IAT Max',\n",
    "\t'Bwd IAT Min'       : ' Bwd IAT Min',\n",
    "\t'Fwd Header Len'    : ' Fwd Header Length',\n",
    "\t'Bwd Header Len'    : ' Bwd Header Length',\n",
    "\t'Fwd Pkts/s'        : 'Fwd Packets/s',\n",
    "\t'Bwd Pkts/s'        : ' Bwd Packets/s',\n",
    "\t'Pkt Len Min'       : ' Min Packet Length',\n",
    "\t'Pkt Len Max'       : ' Max Packet Length',\n",
    "\t'Pkt Len Mean'      : ' Packet Length Mean',\n",
    "\t'Pkt Len Std'       : ' Packet Length Std',\n",
    "\t'Pkt Len Var'       : ' Packet Length Variance',\n",
    "\t'FIN Flag Cnt'      : 'FIN Flag Count',\n",
    "\t'SYN Flag Cnt'      : ' SYN Flag Count',\n",
    "\t'RST Flag Cnt'      : ' RST Flag Count',\n",
    "\t'PSH Flag Cnt'      : ' PSH Flag Count',\n",
    "\t'URG Flag Cnt'      : ' URG Flag Count',\n",
    "\t'ECE Flag Cnt'      : ' ECE Flag Count',\n",
    "\t'Down/Up Ratio'     : ' Down/Up Ratio',\n",
    "\t'Pkt Size Avg'      : ' Average Packet Size',\n",
    "\t'Fwd Seg Size Avg'  : ' Avg Fwd Segment Size',\n",
    "\t'Bwd Seg Size Avg'  : ' Avg Bwd Segment Size',\n",
    "\t'Subflow Fwd Pkts'  : 'Subflow Fwd Packets',\n",
    "\t'Subflow Fwd Byts'  : ' Subflow Fwd Bytes',\n",
    "\t'Subflow Bwd Pkts'  : ' Subflow Bwd Packets',\n",
    "\t'Subflow Bwd Byts'  : ' Subflow Bwd Bytes',\n",
    "\t'Init Fwd Win Byts' : 'Init_Win_bytes_forward',\n",
    "\t'Init Bwd Win Byts' : ' Init_Win_bytes_backward',\n",
    "\t'Fwd Act Data Pkts' : ' act_data_pkt_fwd',\n",
    "\t'Fwd Seg Size Min'  : ' min_seg_size_forward',\n",
    "\t'Active Mean'       : 'Active Mean',\n",
    "\t'Active Std'        : ' Active Std',\n",
    "\t'Active Min'        : ' Active Min',\n",
    "\t'Idle Mean'         : 'Idle Mean',\n",
    "\t'Idle Std'          : ' Idle Std',\n",
    "\t'Idle Max'          : ' Idle Max',\n",
    "\t'Idle Min'          : ' Idle Min',\n",
    "\t'Label'             : ' Label'\n",
    "}\n",
    "\n",
    "cols_2017_to_2018 = {}\n",
    "for key in cols_2018_to_2017:\n",
    "\tcols_2017_to_2018[cols_2018_to_2017[key]] = key\n",
    "\n",
    "final_order = ['Flow Duration', 'Tot Fwd Pkts', 'Tot Bwd Pkts', 'TotLen Fwd Pkts', 'TotLen Bwd Pkts', 'Fwd Pkt Len Max', 'Fwd Pkt Len Min', 'Fwd Pkt Len Mean', 'Fwd Pkt Len Std', 'Bwd Pkt Len Max', 'Bwd Pkt Len Min', 'Bwd Pkt Len Mean', 'Bwd Pkt Len Std', 'Flow Byts/s', 'Flow Pkts/s', 'Flow IAT Mean', 'Flow IAT Std', 'Flow IAT Max', 'Flow IAT Min', 'Fwd IAT Tot', 'Fwd IAT Mean', 'Fwd IAT Std', 'Fwd IAT Max', 'Fwd IAT Min', 'Bwd IAT Tot', 'Bwd IAT Mean', 'Bwd IAT Std', 'Bwd IAT Max', 'Bwd IAT Min', 'Fwd Header Len', 'Bwd Header Len', 'Fwd Pkts/s', 'Bwd Pkts/s', 'Pkt Len Min', 'Pkt Len Max', 'Pkt Len Mean', 'Pkt Len Std', 'Pkt Len Var', 'FIN Flag Cnt', 'SYN Flag Cnt', 'RST Flag Cnt', 'PSH Flag Cnt', 'URG Flag Cnt', 'ECE Flag Cnt', 'Down/Up Ratio', 'Pkt Size Avg', 'Fwd Seg Size Avg', 'Bwd Seg Size Avg', 'Subflow Fwd Pkts', 'Subflow Fwd Byts', 'Subflow Bwd Pkts', 'Subflow Bwd Byts', 'Init Fwd Win Byts', 'Init Bwd Win Byts', 'Fwd Act Data Pkts', 'Fwd Seg Size Min', 'Active Mean', 'Active Std', 'Active Min', 'Idle Mean', 'Idle Std', 'Idle Max', 'Idle Min', 'Label']"
   ]
  },
  {
   "cell_type": "code",
   "execution_count": 6,
   "metadata": {},
   "outputs": [
    {
     "name": "stdout",
     "output_type": "stream",
     "text": [
      "Removing  Destination Port column\n",
      "Removing Fwd PSH Flags column\n",
      "Removing  Bwd PSH Flags column\n",
      "Removing  Fwd URG Flags column\n",
      "Removing  Bwd URG Flags column\n",
      "Removing  ACK Flag Count column\n",
      "Removing  CWE Flag Count column\n",
      "Removing  Fwd Header Length.1 column\n",
      "Removing Fwd Avg Bytes/Bulk column\n",
      "Removing  Fwd Avg Packets/Bulk column\n",
      "Removing  Fwd Avg Bulk Rate column\n",
      "Removing  Bwd Avg Bytes/Bulk column\n",
      "Removing  Bwd Avg Packets/Bulk column\n",
      "Removing Bwd Avg Bulk Rate column\n",
      "Removing  Active Max column\n",
      "Order of columns is good!\n"
     ]
    }
   ],
   "source": [
    "#Remove columns not used\n",
    "for col in data.columns:\n",
    "\tif col not in cols_2017_to_2018:\n",
    "\t\tprint('Removing', col, 'column')\n",
    "\t\tdata = data.drop([col], axis=1)\n",
    "\n",
    "#Replace column names with CIC-IDS-2018 names\n",
    "new_cols = []\n",
    "for i in range(len(data.columns)):\n",
    "\tnew_cols.append(cols_2017_to_2018[data.columns[i]])\n",
    "data.columns = new_cols\n",
    "\n",
    "#Check that order of columns is the same\n",
    "good_order = True\n",
    "for i in range(len(new_cols)):\n",
    "\tif new_cols[i] != final_order[i]:\n",
    "\t\tprint('Column', i+1, 'is', new_cols[i], 'instead of', final_order[i])\n",
    "\t\tgood_order = False\n",
    "if good_order:\n",
    "\tprint('Order of columns is good!')\n",
    "\n",
    "del new_cols, good_order\n",
    "del col, i, key\n",
    "\n"
   ]
  },
  {
   "cell_type": "code",
   "execution_count": 7,
   "metadata": {},
   "outputs": [
    {
     "name": "stdout",
     "output_type": "stream",
     "text": [
      "Index(['Flow Duration', 'Tot Fwd Pkts', 'Tot Bwd Pkts', 'TotLen Fwd Pkts',\n",
      "       'TotLen Bwd Pkts', 'Fwd Pkt Len Max', 'Fwd Pkt Len Min',\n",
      "       'Fwd Pkt Len Mean', 'Fwd Pkt Len Std', 'Bwd Pkt Len Max',\n",
      "       'Bwd Pkt Len Min', 'Bwd Pkt Len Mean', 'Bwd Pkt Len Std', 'Flow Byts/s',\n",
      "       'Flow Pkts/s', 'Flow IAT Mean', 'Flow IAT Std', 'Flow IAT Max',\n",
      "       'Flow IAT Min', 'Fwd IAT Tot', 'Fwd IAT Mean', 'Fwd IAT Std',\n",
      "       'Fwd IAT Max', 'Fwd IAT Min', 'Bwd IAT Tot', 'Bwd IAT Mean',\n",
      "       'Bwd IAT Std', 'Bwd IAT Max', 'Bwd IAT Min', 'Fwd Header Len',\n",
      "       'Bwd Header Len', 'Fwd Pkts/s', 'Bwd Pkts/s', 'Pkt Len Min',\n",
      "       'Pkt Len Max', 'Pkt Len Mean', 'Pkt Len Std', 'Pkt Len Var',\n",
      "       'FIN Flag Cnt', 'SYN Flag Cnt', 'RST Flag Cnt', 'PSH Flag Cnt',\n",
      "       'URG Flag Cnt', 'ECE Flag Cnt', 'Down/Up Ratio', 'Pkt Size Avg',\n",
      "       'Fwd Seg Size Avg', 'Bwd Seg Size Avg', 'Subflow Fwd Pkts',\n",
      "       'Subflow Fwd Byts', 'Subflow Bwd Pkts', 'Subflow Bwd Byts',\n",
      "       'Init Fwd Win Byts', 'Init Bwd Win Byts', 'Fwd Act Data Pkts',\n",
      "       'Fwd Seg Size Min', 'Active Mean', 'Active Std', 'Active Min',\n",
      "       'Idle Mean', 'Idle Std', 'Idle Max', 'Idle Min', 'Label'],\n",
      "      dtype='object')\n"
     ]
    }
   ],
   "source": [
    "print(data.columns)"
   ]
  },
  {
   "cell_type": "code",
   "execution_count": 8,
   "metadata": {},
   "outputs": [],
   "source": [
    "def IQR_normalization(dataframe: pd.DataFrame, normalizaiton: dict = None):\n",
    "\tnorm_dict = {}\n",
    "\tif normalizaiton == None:\n",
    "\t\tfor cat in dataframe.columns:\n",
    "\t\t\t#dict[category] = [max, 75percentile, mean, 25percentile, min]\n",
    "\t\t\tnorm_dict[cat] = [0, 0, 0, 0, 0]\n",
    "\t\t\tnorm_dict[cat][0] = dataframe[cat].max()\n",
    "\t\t\tnorm_dict[cat][1] = dataframe[cat].quantile(0.75)\n",
    "\t\t\tnorm_dict[cat][2] = dataframe[cat].mean()\n",
    "\t\t\tnorm_dict[cat][3] = dataframe[cat].quantile(0.25)\n",
    "\t\t\tnorm_dict[cat][4] = dataframe[cat].min()\n",
    "\telse:\n",
    "\t\tnorm_dict = normalizaiton\n",
    "\t\n",
    "\tfor cat in norm_dict:\n",
    "\t\tif norm_dict[cat][1] - norm_dict[cat][4] != 0:\n",
    "\t\t\tdataframe[cat] = (dataframe[cat] - norm_dict[cat][4]) / ( norm_dict[cat][1] - norm_dict[cat][4] )\n",
    "\t\telse:\n",
    "\t\t\tprint(f'scaling col {cat} differently...')\n",
    "\t\t\tdataframe[cat].where(dataframe[cat] <= 1.0, 1.0, inplace=True)\n",
    "\n",
    "\t\n",
    "\tdataframe.where(dataframe <= 1.0, 1.0, inplace=True)\n",
    "\n",
    "\tif normalizaiton == None:\n",
    "\t\treturn norm_dict"
   ]
  },
  {
   "cell_type": "code",
   "execution_count": 9,
   "metadata": {},
   "outputs": [],
   "source": [
    "def clean_dataframe(data: pd.DataFrame, normalization = None):\n",
    "\tprint('label counts:')\n",
    "\tprint(data['Label'].value_counts())\n",
    "\n",
    "\t#Remove entries with null values\n",
    "\tdata = data[~data.isin([np.nan, np.inf, -np.inf]).any(1)]\n",
    "\n",
    "\t#Remove label from dataframe prior to standardization\n",
    "\tlabels = data['Label'].values\n",
    "\tdata = data.drop(['Label'], axis=1)\n",
    "\n",
    "\t#Change everything to float64\n",
    "\tfor col in data.columns:\n",
    "\t\tdata[col] = pd.to_numeric(data[col])\n",
    "\n",
    "\t#Remove nan again\n",
    "\tnan_mask = data.isin([np.nan, np.inf, -np.inf]).any(1)\n",
    "\tlabels = labels[~nan_mask]\n",
    "\tdata = data[~nan_mask]\n",
    "\n",
    "\tIQR_normalization(data, normalization)\n",
    "\n",
    "\t#Check for nulls\n",
    "\tnull_counts = data.isin([np.nan, np.inf, -np.inf]).sum()\n",
    "\tfor i in range(len(null_counts)):\n",
    "\t\tif null_counts[i] != 0:\n",
    "\t\t\tassert False,f'{data.columns[i]} has null values after standardization'\n",
    "\n",
    "\treturn data.values, labels"
   ]
  },
  {
   "cell_type": "code",
   "execution_count": 10,
   "metadata": {},
   "outputs": [],
   "source": [
    "with open('normalization.data','rb') as f:\n",
    "\tnormalization = pickle.load(f)\n",
    "\n",
    "del f"
   ]
  },
  {
   "cell_type": "code",
   "execution_count": 11,
   "metadata": {},
   "outputs": [
    {
     "name": "stdout",
     "output_type": "stream",
     "text": [
      "label counts:\n",
      "DDoS      128027\n",
      "BENIGN     97718\n",
      "Name: Label, dtype: int64\n",
      "scaling col FIN Flag Cnt differently...\n",
      "scaling col SYN Flag Cnt differently...\n",
      "scaling col RST Flag Cnt differently...\n",
      "scaling col URG Flag Cnt differently...\n",
      "scaling col ECE Flag Cnt differently...\n",
      "scaling col Active Mean differently...\n",
      "scaling col Active Std differently...\n",
      "scaling col Active Min differently...\n",
      "scaling col Idle Mean differently...\n",
      "scaling col Idle Std differently...\n",
      "scaling col Idle Max differently...\n",
      "scaling col Idle Min differently...\n"
     ]
    }
   ],
   "source": [
    "data, labels = clean_dataframe(data, normalization)"
   ]
  },
  {
   "cell_type": "code",
   "execution_count": 12,
   "metadata": {},
   "outputs": [],
   "source": [
    "data_copy = data"
   ]
  },
  {
   "cell_type": "code",
   "execution_count": 13,
   "metadata": {},
   "outputs": [],
   "source": [
    "data = data_copy"
   ]
  },
  {
   "cell_type": "markdown",
   "metadata": {},
   "source": [
    "# Get ready to calculate losses"
   ]
  },
  {
   "cell_type": "code",
   "execution_count": 14,
   "metadata": {},
   "outputs": [],
   "source": [
    "unique_labels, counts = np.unique(labels, return_counts=True)\n",
    "losses = {}\n",
    "\n",
    "for idx in range(len(unique_labels)):\n",
    "\tlosses[unique_labels[idx]] = list(range(counts[idx]))"
   ]
  },
  {
   "cell_type": "code",
   "execution_count": 16,
   "metadata": {},
   "outputs": [],
   "source": [
    "model = torch.load('2018_model.pth')\n",
    "model.eval()\n",
    "\n",
    "criterion = nn.MSELoss()"
   ]
  },
  {
   "cell_type": "code",
   "execution_count": 17,
   "metadata": {},
   "outputs": [
    {
     "data": {
      "text/plain": [
       "\u001b[K\u001b[F     \u001b[1mIters\u001b[0m        \u001b[1mElapsed Time\u001b[0m        \u001b[1mSpeed\u001b[0m                                     \n",
       " \u001b[99m225711/\u001b[93m225711\u001b[0m\u001b[0m  \u001b[99m00:01:28<\u001b[93m00:00:00\u001b[0m\u001b[0m  \u001b[99m2558.81it/s\u001b[0m                                  "
      ]
     },
     "metadata": {},
     "output_type": "display_data"
    },
    {
     "data": {
      "application/vnd.jupyter.widget-view+json": {
       "model_id": "f17a2f96db944b8aa68319a13f6e80a9",
       "version_major": 2,
       "version_minor": 0
      },
      "text/plain": [
       "IpythonBar(children=(HTML(value='  0.0%'), FloatProgress(value=0.0)))"
      ]
     },
     "metadata": {},
     "output_type": "display_data"
    }
   ],
   "source": [
    "losses = {}\n",
    "\n",
    "gpu_data = torch.from_numpy(data).float()\n",
    "gpu_data = gpu_data.cuda()\n",
    "\n",
    "for idx in qqdm(range(gpu_data.size(0))):\n",
    "\tif labels[idx] not in losses:\n",
    "\t\tlosses[labels[idx]] = []\n",
    "\n",
    "\toutput = model(gpu_data[idx])\n",
    "\tloss = criterion(output, gpu_data[idx])\n",
    "\tlosses[labels[idx]].append(loss.item())\n",
    "\t"
   ]
  },
  {
   "cell_type": "code",
   "execution_count": 18,
   "metadata": {},
   "outputs": [],
   "source": [
    "#Save data bc that took a long time\n",
    "with open('processed_results.data','wb') as f:\n",
    "\tpickle.dump(losses, f, pickle.HIGHEST_PROTOCOL)"
   ]
  },
  {
   "cell_type": "code",
   "execution_count": 19,
   "metadata": {},
   "outputs": [],
   "source": [
    "#Plot losses\n",
    "loss = []\n",
    "loss_label = []\n",
    "for label in losses:\n",
    "\tloss.append(losses[label])\n",
    "\tloss_label.append(label)"
   ]
  },
  {
   "cell_type": "code",
   "execution_count": 25,
   "metadata": {},
   "outputs": [
    {
     "data": {
      "text/plain": [
       "(0.0, 0.15)"
      ]
     },
     "execution_count": 25,
     "metadata": {},
     "output_type": "execute_result"
    },
    {
     "data": {
      "image/png": "[encoded data removed]",
      "text/plain": [
       "<Figure size 1200x800 with 1 Axes>"
      ]
     },
     "metadata": {
      "needs_background": "light"
     },
     "output_type": "display_data"
    }
   ],
   "source": [
    "#Following line if run over entire dataset\n",
    "# fig = plt.figure(dpi=250, figsize=(18,3))\n",
    "#Following line for a single day\n",
    "fig = plt.figure(dpi=200)\n",
    "plt.boxplot(loss)\n",
    "plt.xticks(list(range(1,len(losses)+1)), loss_label, fontsize=8)\n",
    "plt.ylim(0,0.15)"
   ]
  },
  {
   "cell_type": "code",
   "execution_count": 21,
   "metadata": {},
   "outputs": [],
   "source": [
    "def separation_index(base_losses: list, target_losses: list):\n",
    "\treturn (-1*np.median(base_losses) + np.median(target_losses)) / ( np.percentile(base_losses, 95) - np.percentile(base_losses, 5) )"
   ]
  },
  {
   "cell_type": "code",
   "execution_count": 22,
   "metadata": {},
   "outputs": [
    {
     "name": "stdout",
     "output_type": "stream",
     "text": [
      "DDoS seperation = \t 0.04908632434814565\n"
     ]
    }
   ],
   "source": [
    "for label in losses:\n",
    "\tif label == 'BENIGN':\n",
    "\t\tcontinue\n",
    "\tprint(label, 'seperation = \\t', separation_index(losses['BENIGN'], losses[label]))\n"
   ]
  }
 ],
 "metadata": {
  "interpreter": {
   "hash": "6d4cbe4fe6a33e4d72c9a2990f07f1aeb20aae8182e4dceeb23ed7c7096de238"
  },
  "kernelspec": {
   "display_name": "Python 3.9.7 ('base')",
   "language": "python",
   "name": "python3"
  },
  "language_info": {
   "codemirror_mode": {
    "name": "ipython",
    "version": 3
   },
   "file_extension": ".py",
   "mimetype": "text/x-python",
   "name": "python",
   "nbconvert_exporter": "python",
   "pygments_lexer": "ipython3",
   "version": "3.9.7"
  },
  "orig_nbformat": 4
 },
 "nbformat": 4,
 "nbformat_minor": 2
}
