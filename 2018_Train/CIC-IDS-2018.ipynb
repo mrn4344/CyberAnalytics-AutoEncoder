{
 "cells": [
  {
   "cell_type": "markdown",
   "metadata": {},
   "source": [
    "# Imports"
   ]
  },
  {
   "cell_type": "code",
   "execution_count": 20,
   "metadata": {},
   "outputs": [],
   "source": [
    "import random\n",
    "\n",
    "from qqdm.notebook import qqdm as qqdm\n",
    "\n",
    "import matplotlib.pyplot as plt\n",
    "import numpy as np\n",
    "import pandas as pd\n",
    "\n",
    "import torch\n",
    "from torch import nn\n",
    "from torch.utils.data import (DataLoader, RandomSampler, SequentialSampler, TensorDataset, Dataset)\n",
    "from torch.optim import Adam"
   ]
  },
  {
   "cell_type": "markdown",
   "metadata": {},
   "source": [
    "# Loading and Data Functions"
   ]
  },
  {
   "cell_type": "code",
   "execution_count": 21,
   "metadata": {},
   "outputs": [],
   "source": [
    "def numberize_labels(df: pd.DataFrame, label_col_key: str):\n",
    "\tlabel2num = {}\n",
    "\tnum2label = {}\n",
    "\tfor idx, label in enumerate(df[label_col_key].unique()):\n",
    "\t\tdf[label_col_key].replace(label, idx, inplace=True)\n",
    "\t\tlabel2num[label] = idx\n",
    "\t\tnum2label[idx]   = label\n",
    "\t\n",
    "\treturn label2num, num2label\n",
    "\n",
    "\n",
    "def IQR_normalization(dataframe: pd.DataFrame, normalizaiton: dict = None):\n",
    "\tnorm_dict = {}\n",
    "\tif normalizaiton == None:\n",
    "\t\tfor cat in dataframe.columns:\n",
    "\t\t\t#dict[category] = [max, 75percentile, mean, 25percentile, min]\n",
    "\t\t\tnorm_dict[cat] = [0, 0, 0, 0, 0]\n",
    "\t\t\tnorm_dict[cat][0] = dataframe[cat].max()\n",
    "\t\t\tnorm_dict[cat][1] = dataframe[cat].quantile(0.75)\n",
    "\t\t\tnorm_dict[cat][2] = dataframe[cat].mean()\n",
    "\t\t\tnorm_dict[cat][3] = dataframe[cat].quantile(0.25)\n",
    "\t\t\tnorm_dict[cat][4] = dataframe[cat].min()\n",
    "\telse:\n",
    "\t\tnorm_dict = normalizaiton\n",
    "\t\n",
    "\tfor cat in norm_dict:\n",
    "\t\tif norm_dict[cat][1] - norm_dict[cat][4] != 0:\n",
    "\t\t\tdataframe[cat] = (dataframe[cat] - norm_dict[cat][4]) / ( norm_dict[cat][1] - norm_dict[cat][4] )\n",
    "\t\telse:\n",
    "\t\t\tdataframe[cat].where(dataframe[cat] <= 1.0, 1.0, inplace=True)\n",
    "\n",
    "\t\n",
    "\tdataframe.where(dataframe <= 1.0, 1.0, inplace=True)\n",
    "\n",
    "\tif normalizaiton == None:\n",
    "\t\treturn norm_dict\n",
    "\n",
    "\n",
    "def load_and_clean_CSV(filename, cols_to_keep = None, normalization = None):\n",
    "\tdata = pd.read_csv(filename)\n",
    "\n",
    "\t#Remove categorical columns\n",
    "\tif cols_to_keep == None:\n",
    "\t\tcategorical_cols = [\n",
    "\t\t\t'Dst Port', 'Protocol', 'Timestamp', 'Fwd PSH Flags', 'Bwd PSH Flags', 'Fwd URG Flags', 'Bwd URG Flags',\n",
    "\t\t\t'CWE Flag Count', 'Fwd Byts/b Avg', 'Fwd Pkts/b Avg', 'Fwd Blk Rate Avg', 'Bwd Byts/b Avg', \n",
    "\t\t\t'Bwd Pkts/b Avg', 'Bwd Blk Rate Avg', 'ACK Flag Cnt', 'Active Max'\n",
    "\t\t\t# , 'FIN Flag Cnt', 'SYN Flag Cnt', 'RST Flag Cnt',\n",
    "\t\t\t# 'URG Flag Cnt', 'ECE Flag Cnt', 'Active Mean', 'Active Std', 'Active Min'\n",
    "\t\t]\n",
    "\t\tdata = data.drop(categorical_cols, axis=1)\n",
    "\telse:\n",
    "\t\tfor col in data.columns:\n",
    "\t\t\tif col not in cols_to_keep:\n",
    "\t\t\t\tdata = data.drop([col], axis=1)\n",
    "\t\n",
    "\t#Remove 'Label' labels\n",
    "\tdata = data[data['Label'] != 'Label']\n",
    "\n",
    "\t\n",
    "\t\n",
    "\t#Remove entries with null values\n",
    "\tdata = data[~data.isin([np.nan, np.inf, -np.inf]).any(1)]\n",
    "\n",
    "\t#Numerize the labels\n",
    "\tlabel2num, num2label = numberize_labels(data, 'Label')\n",
    "\tprint(f'Label : Key ->\\n{label2num}')\n",
    "\tprint(data['Label'].value_counts())\n",
    "\n",
    "\t#Remove label from dataframe prior to standardization\n",
    "\tlabels = data['Label'].values\n",
    "\tdata = data.drop(['Label'], axis=1)\n",
    "\n",
    "\tfor col in data.columns:\n",
    "\t\tdata[col] = pd.to_numeric(data[col])\n",
    "\n",
    "\t#Remove entries with Nan\n",
    "\tnan_mask = data.isin([np.nan, np.inf, -np.inf]).any(1)\n",
    "\tlabels = labels[~nan_mask]\n",
    "\tdata = data[~nan_mask]\n",
    "\n",
    "\tfor col in data.columns:\n",
    "\t\tdata[col] = pd.to_numeric(data[col])\n",
    "\n",
    "\t#Check for nulls\n",
    "\tnull_counts = data.isin([np.nan, np.inf, -np.inf]).sum()\n",
    "\tfor i in range(len(null_counts)):\n",
    "\t\tif null_counts[i] != 0:\n",
    "\t\t\tassert False,f'{data.columns[i]} has null values before standardization'\n",
    "\n",
    "\t#Standardization\n",
    "\tnormalization = IQR_normalization(data, normalization)\n",
    "\n",
    "\t#Check for nulls\n",
    "\tnull_counts = data.isin([np.nan, np.inf, -np.inf]).sum()\n",
    "\tfor i in range(len(null_counts)):\n",
    "\t\tif null_counts[i] != 0:\n",
    "\t\t\tassert False,f'{data.columns[i]} has null values after standardization'\n",
    "\n",
    "\t#print('final columns:',list(data.columns))\n",
    "\n",
    "\treturn data.values, labels, data.columns, label2num, num2label, normalization\n",
    "\n",
    "def dataframe_to_tensor(data):\n",
    "\treturn torch.from_numpy(data.values).float()\n",
    "\n",
    "def extract_subsample(data, labels, label_idx, preferred_size=10000):\n",
    "\tbalanced_size = min(np.bincount(labels).min(), preferred_size)\n",
    "\tlabel_mask = labels == label_idx\n",
    "\t#print(f'label mask len: {len(label_mask)}, data len: {len(data)}')\n",
    "\tdata2 = data[label_mask]\n",
    "\t#return np.random.choice(data[labels == label_idx], replace=False, size=balanced_size)\n",
    "\treturn data2[np.random.choice(len(data2), replace=False, size=balanced_size)]"
   ]
  },
  {
   "cell_type": "markdown",
   "metadata": {},
   "source": [
    "## Dataset Class"
   ]
  },
  {
   "cell_type": "code",
   "execution_count": 22,
   "metadata": {},
   "outputs": [],
   "source": [
    "class NumericalTensorDataset(Dataset):\n",
    "\tdef __init__(this, data, labels):\n",
    "\t\tassert len(data) == len(labels),'Error in importing dataset; length of features and labels not equivalent.'\n",
    "\n",
    "\t\tthis.data   = data.float()\n",
    "\t\tthis.data   = this.data.cuda()\n",
    "\t\tthis.labels = labels\n",
    "\t\n",
    "\tdef __len__(this):\n",
    "\t\treturn len(this.data)\n",
    "\t\n",
    "\tdef __getitem__(this, idx):\n",
    "\t\treturn [this.data[idx], this.labels[idx]]\n"
   ]
  },
  {
   "cell_type": "markdown",
   "metadata": {},
   "source": [
    "# Load data"
   ]
  },
  {
   "cell_type": "code",
   "execution_count": 23,
   "metadata": {},
   "outputs": [
    {
     "name": "stdout",
     "output_type": "stream",
     "text": [
      "Label : Key ->\n",
      "{'Benign': 0, 'DoS attacks-GoldenEye': 1, 'DoS attacks-Slowloris': 2}\n",
      "0    988050\n",
      "1     41508\n",
      "2     10990\n",
      "Name: Label, dtype: int64\n"
     ]
    }
   ],
   "source": [
    "data, labels, columns_to_keep, label2num, num2label, normalization = load_and_clean_CSV('02-15-2018.csv')"
   ]
  },
  {
   "cell_type": "code",
   "execution_count": 24,
   "metadata": {},
   "outputs": [
    {
     "name": "stdout",
     "output_type": "stream",
     "text": [
      "[988050  41508  10990]\n",
      "[[4.09346195e-02 5.00000000e-01 2.50000000e-01 ... 0.00000000e+00\n",
      "  0.00000000e+00 0.00000000e+00]\n",
      " [1.00000000e+00 7.50000000e-01 1.00000000e+00 ... 0.00000000e+00\n",
      "  0.00000000e+00 0.00000000e+00]\n",
      " [8.39795262e-01 1.00000000e+00 1.00000000e+00 ... 0.00000000e+00\n",
      "  0.00000000e+00 0.00000000e+00]\n",
      " ...\n",
      " [1.29019808e-05 2.50000000e-01 0.00000000e+00 ... 0.00000000e+00\n",
      "  0.00000000e+00 0.00000000e+00]\n",
      " [9.44733524e-03 2.50000000e-01 5.00000000e-01 ... 0.00000000e+00\n",
      "  0.00000000e+00 0.00000000e+00]\n",
      " [2.38125690e-04 5.00000000e-01 1.00000000e+00 ... 0.00000000e+00\n",
      "  0.00000000e+00 0.00000000e+00]]\n",
      "10990\n"
     ]
    }
   ],
   "source": [
    "label_bin = np.bincount(labels)\n",
    "print(label_bin)\n",
    "data2 = extract_subsample(data, labels, 0, 90000)\n",
    "print(data2)\n",
    "print(len(data2))"
   ]
  },
  {
   "cell_type": "markdown",
   "metadata": {},
   "source": [
    "## Split data into benign and malicious datasets"
   ]
  },
  {
   "cell_type": "code",
   "execution_count": 25,
   "metadata": {},
   "outputs": [
    {
     "name": "stdout",
     "output_type": "stream",
     "text": [
      "988050 benign entries and 52498 entries\n"
     ]
    }
   ],
   "source": [
    "benign_mask = labels == label2num['Benign']\n",
    "benign_data = data[benign_mask]\n",
    "benign_GT = labels[benign_mask]\n",
    "malicious_data = data[~benign_mask]\n",
    "malicious_GT   = labels[~benign_mask]\n",
    "print(f'{len(benign_data)} benign entries and {len(malicious_data)} entries')"
   ]
  },
  {
   "cell_type": "code",
   "execution_count": 26,
   "metadata": {},
   "outputs": [],
   "source": [
    "#Create datasets\n",
    "benign_dataset = NumericalTensorDataset(torch.from_numpy(benign_data), benign_GT)\n",
    "malicious_dataset = NumericalTensorDataset(torch.from_numpy(malicious_data), malicious_GT)\n",
    "\n",
    "del benign_data, benign_GT, malicious_data, malicious_GT, benign_mask"
   ]
  },
  {
   "cell_type": "markdown",
   "metadata": {},
   "source": [
    "# Model"
   ]
  },
  {
   "cell_type": "code",
   "execution_count": 27,
   "metadata": {},
   "outputs": [],
   "source": [
    "class WeirdTrafficNet(nn.Module):\n",
    "\tdef __init__(self, in_dim):\n",
    "\t\tsuper(WeirdTrafficNet, self).__init__()\n",
    "\n",
    "\t\t#encoder_layer_dims = [in_dim, 31, 15, 6] #@30 epochs: train sep 7.7, 2/14 FTP 1.212, 2/14 SSH 0.461\n",
    "\t\t#encoder_layer_dims = [in_dim, 45, 25, 6] #@30 epochs: train sep 14.5, 2/14 FTP 1.437, 2/14 SSH 0.234\n",
    "\t\t#encoder_layer_dims = [in_dim, 45, 35, 6] #@30 epochs: train sep 11.2, 2/14 FTP 1.03, 2/14 SSH 0.49\n",
    "\t\t#encoder_layer_dims = [in_dim, 50, 35, 6] #@30 epochs: train sep 10.7, 2/14 FTP 0.529, 2/14 SSH 0.156\n",
    "\t\tencoder_layer_dims = [in_dim, 50, 35, 5] #@30 epochs: train sep 19.2, 2/14 FTP 2.04, 2/14 SSH 0.0006\n",
    "\t\trelu_inplace = True\n",
    "\n",
    "\t\tself.encoder = nn.Sequential(\n",
    "\t\t\tnn.Linear(encoder_layer_dims[0], encoder_layer_dims[1]),\n",
    "\t\t\tnn.ReLU(relu_inplace),\n",
    "\t\t\tnn.Linear(encoder_layer_dims[1], encoder_layer_dims[2]),\n",
    "\t\t\tnn.ReLU(relu_inplace),\n",
    "\t\t\tnn.Linear(encoder_layer_dims[2], encoder_layer_dims[3]),\n",
    "\t\t\tnn.ReLU(relu_inplace),\n",
    "\t\t)\n",
    "\n",
    "\t\tself.decoder = nn.Sequential(\n",
    "\t\t\tnn.Linear(encoder_layer_dims[3], encoder_layer_dims[2]),\n",
    "\t\t\tnn.ReLU(relu_inplace),\n",
    "\t\t\tnn.Linear(encoder_layer_dims[2], encoder_layer_dims[1]),\n",
    "\t\t\tnn.ReLU(relu_inplace),\n",
    "\t\t\tnn.Linear(encoder_layer_dims[1], encoder_layer_dims[0]),\n",
    "\t\t\tnn.Sigmoid()\n",
    "\t\t\t#nn.Tanh()\n",
    "\t\t\t#nn.ReLU()\n",
    "\t\t)\n",
    "\n",
    "\tdef forward(self, x):\n",
    "\t\tx = self.encoder(x)\n",
    "\t\tx = self.decoder(x)\n",
    "\t\treturn x"
   ]
  },
  {
   "cell_type": "markdown",
   "metadata": {},
   "source": [
    "## Separation Index\n",
    "\n",
    "$$\n",
    "\\textrm{Separation} = \\frac{\\textrm{median(target)}-\\textrm{median(base)}}{\\textrm{base}_{95\\%}-\\textrm{base}_{5\\%}}\n",
    "$$"
   ]
  },
  {
   "cell_type": "code",
   "execution_count": 28,
   "metadata": {},
   "outputs": [],
   "source": [
    "def separation_index(base_losses: list, target_losses: list):\n",
    "\treturn (-1*np.median(base_losses) + np.median(target_losses)) / ( np.percentile(base_losses, 95) - np.percentile(base_losses, 5) )\n",
    "\t#return abs(np.median(base_losses) - np.median(target_losses)) / ( np.max(base_losses) - np.min(base_losses) )"
   ]
  },
  {
   "cell_type": "markdown",
   "metadata": {},
   "source": [
    "# Training"
   ]
  },
  {
   "cell_type": "code",
   "execution_count": 29,
   "metadata": {},
   "outputs": [],
   "source": [
    "criterion = nn.MSELoss()"
   ]
  },
  {
   "cell_type": "code",
   "execution_count": 30,
   "metadata": {},
   "outputs": [
    {
     "name": "stdout",
     "output_type": "stream",
     "text": [
      "Training with 63 features\n"
     ]
    },
    {
     "data": {
      "text/plain": [
       "\u001b[K\u001b[F  \u001b[1mIters\u001b[0m     \u001b[1mElapsed Time\u001b[0m       \u001b[1mSpeed\u001b[0m     \u001b[1mepoch\u001b[0m    \u001b[1mloss\u001b[0m                          \n",
       " \u001b[99m965/\u001b[93m965\u001b[0m\u001b[0m  \u001b[99m00:00:04<\u001b[93m00:00:00\u001b[0m\u001b[0m  \u001b[99m193.08it/s\u001b[0m    \u001b[99m1\u001b[0m    \u001b[99m0.120261\u001b[0m                        "
      ]
     },
     "metadata": {},
     "output_type": "display_data"
    },
    {
     "data": {
      "application/vnd.jupyter.widget-view+json": {
       "model_id": "44f3382610a941558c711418f378a220",
       "version_major": 2,
       "version_minor": 0
      },
      "text/plain": [
       "IpythonBar(children=(HTML(value='  0.0%'), FloatProgress(value=0.0)))"
      ]
     },
     "metadata": {},
     "output_type": "display_data"
    },
    {
     "name": "stdout",
     "output_type": "stream",
     "text": [
      "Benign loss: 0.041525\n",
      "Malicious loss: 0.068252\n",
      "Separation index: 7.518071\n"
     ]
    },
    {
     "data": {
      "text/plain": [
       "\u001b[K\u001b[F  \u001b[1mIters\u001b[0m     \u001b[1mElapsed Time\u001b[0m       \u001b[1mSpeed\u001b[0m     \u001b[1mepoch\u001b[0m    \u001b[1mloss\u001b[0m                          \n",
       " \u001b[99m965/\u001b[93m965\u001b[0m\u001b[0m  \u001b[99m00:00:04<\u001b[93m00:00:00\u001b[0m\u001b[0m  \u001b[99m193.14it/s\u001b[0m    \u001b[99m2\u001b[0m    \u001b[99m0.032542\u001b[0m                        "
      ]
     },
     "metadata": {},
     "output_type": "display_data"
    },
    {
     "data": {
      "application/vnd.jupyter.widget-view+json": {
       "model_id": "ac7ab846d36540298b65f64a2f738147",
       "version_major": 2,
       "version_minor": 0
      },
      "text/plain": [
       "IpythonBar(children=(HTML(value='  0.0%'), FloatProgress(value=0.0)))"
      ]
     },
     "metadata": {},
     "output_type": "display_data"
    },
    {
     "name": "stdout",
     "output_type": "stream",
     "text": [
      "Benign loss: 0.026484\n",
      "Malicious loss: 0.040822\n",
      "Separation index: 4.970754\n"
     ]
    },
    {
     "data": {
      "text/plain": [
       "\u001b[K\u001b[F  \u001b[1mIters\u001b[0m     \u001b[1mElapsed Time\u001b[0m       \u001b[1mSpeed\u001b[0m     \u001b[1mepoch\u001b[0m    \u001b[1mloss\u001b[0m                          \n",
       " \u001b[99m965/\u001b[93m965\u001b[0m\u001b[0m  \u001b[99m00:00:04<\u001b[93m00:00:00\u001b[0m\u001b[0m  \u001b[99m195.64it/s\u001b[0m    \u001b[99m3\u001b[0m    \u001b[99m0.023350\u001b[0m                        "
      ]
     },
     "metadata": {},
     "output_type": "display_data"
    },
    {
     "data": {
      "application/vnd.jupyter.widget-view+json": {
       "model_id": "400eb2ca8d8c45a1b7d9c61fc2101d1a",
       "version_major": 2,
       "version_minor": 0
      },
      "text/plain": [
       "IpythonBar(children=(HTML(value='  0.0%'), FloatProgress(value=0.0)))"
      ]
     },
     "metadata": {},
     "output_type": "display_data"
    },
    {
     "name": "stdout",
     "output_type": "stream",
     "text": [
      "Benign loss: 0.021209\n",
      "Malicious loss: 0.036574\n",
      "Separation index: 5.576170\n"
     ]
    },
    {
     "data": {
      "text/plain": [
       "\u001b[K\u001b[F  \u001b[1mIters\u001b[0m     \u001b[1mElapsed Time\u001b[0m       \u001b[1mSpeed\u001b[0m     \u001b[1mepoch\u001b[0m    \u001b[1mloss\u001b[0m                          \n",
       " \u001b[99m965/\u001b[93m965\u001b[0m\u001b[0m  \u001b[99m00:00:04<\u001b[93m00:00:00\u001b[0m\u001b[0m  \u001b[99m196.60it/s\u001b[0m    \u001b[99m4\u001b[0m    \u001b[99m0.019833\u001b[0m                        "
      ]
     },
     "metadata": {},
     "output_type": "display_data"
    },
    {
     "data": {
      "application/vnd.jupyter.widget-view+json": {
       "model_id": "8d20c95f8e8e44748089764e7e9dcb6c",
       "version_major": 2,
       "version_minor": 0
      },
      "text/plain": [
       "IpythonBar(children=(HTML(value='  0.0%'), FloatProgress(value=0.0)))"
      ]
     },
     "metadata": {},
     "output_type": "display_data"
    },
    {
     "name": "stdout",
     "output_type": "stream",
     "text": [
      "Benign loss: 0.018569\n",
      "Malicious loss: 0.035777\n",
      "Separation index: 6.581115\n"
     ]
    },
    {
     "data": {
      "text/plain": [
       "\u001b[K\u001b[F  \u001b[1mIters\u001b[0m     \u001b[1mElapsed Time\u001b[0m       \u001b[1mSpeed\u001b[0m     \u001b[1mepoch\u001b[0m    \u001b[1mloss\u001b[0m                          \n",
       " \u001b[99m965/\u001b[93m965\u001b[0m\u001b[0m  \u001b[99m00:00:04<\u001b[93m00:00:00\u001b[0m\u001b[0m  \u001b[99m193.66it/s\u001b[0m    \u001b[99m5\u001b[0m    \u001b[99m0.017267\u001b[0m                        "
      ]
     },
     "metadata": {},
     "output_type": "display_data"
    },
    {
     "data": {
      "application/vnd.jupyter.widget-view+json": {
       "model_id": "eca4a8a37ba54e68b7f595c7d858d7c5",
       "version_major": 2,
       "version_minor": 0
      },
      "text/plain": [
       "IpythonBar(children=(HTML(value='  0.0%'), FloatProgress(value=0.0)))"
      ]
     },
     "metadata": {},
     "output_type": "display_data"
    },
    {
     "name": "stdout",
     "output_type": "stream",
     "text": [
      "Benign loss: 0.016216\n",
      "Malicious loss: 0.035338\n",
      "Separation index: 7.646355\n"
     ]
    },
    {
     "data": {
      "text/plain": [
       "\u001b[K\u001b[F  \u001b[1mIters\u001b[0m     \u001b[1mElapsed Time\u001b[0m       \u001b[1mSpeed\u001b[0m     \u001b[1mepoch\u001b[0m    \u001b[1mloss\u001b[0m                          \n",
       " \u001b[99m965/\u001b[93m965\u001b[0m\u001b[0m  \u001b[99m00:00:04<\u001b[93m00:00:00\u001b[0m\u001b[0m  \u001b[99m196.00it/s\u001b[0m    \u001b[99m6\u001b[0m    \u001b[99m0.015464\u001b[0m                        "
      ]
     },
     "metadata": {},
     "output_type": "display_data"
    },
    {
     "data": {
      "application/vnd.jupyter.widget-view+json": {
       "model_id": "9208c530bfda43438b8fc6fe79fb08c4",
       "version_major": 2,
       "version_minor": 0
      },
      "text/plain": [
       "IpythonBar(children=(HTML(value='  0.0%'), FloatProgress(value=0.0)))"
      ]
     },
     "metadata": {},
     "output_type": "display_data"
    },
    {
     "name": "stdout",
     "output_type": "stream",
     "text": [
      "Benign loss: 0.014798\n",
      "Malicious loss: 0.035281\n",
      "Separation index: 8.530343\n"
     ]
    },
    {
     "data": {
      "text/plain": [
       "\u001b[K\u001b[F  \u001b[1mIters\u001b[0m     \u001b[1mElapsed Time\u001b[0m       \u001b[1mSpeed\u001b[0m     \u001b[1mepoch\u001b[0m    \u001b[1mloss\u001b[0m                          \n",
       " \u001b[99m965/\u001b[93m965\u001b[0m\u001b[0m  \u001b[99m00:00:04<\u001b[93m00:00:00\u001b[0m\u001b[0m  \u001b[99m193.48it/s\u001b[0m    \u001b[99m7\u001b[0m    \u001b[99m0.014262\u001b[0m                        "
      ]
     },
     "metadata": {},
     "output_type": "display_data"
    },
    {
     "data": {
      "application/vnd.jupyter.widget-view+json": {
       "model_id": "db3987eec5514af1942988e4ea3427a0",
       "version_major": 2,
       "version_minor": 0
      },
      "text/plain": [
       "IpythonBar(children=(HTML(value='  0.0%'), FloatProgress(value=0.0)))"
      ]
     },
     "metadata": {},
     "output_type": "display_data"
    },
    {
     "name": "stdout",
     "output_type": "stream",
     "text": [
      "Benign loss: 0.013656\n",
      "Malicious loss: 0.031925\n",
      "Separation index: 7.711075\n"
     ]
    },
    {
     "data": {
      "text/plain": [
       "\u001b[K\u001b[F  \u001b[1mIters\u001b[0m     \u001b[1mElapsed Time\u001b[0m       \u001b[1mSpeed\u001b[0m     \u001b[1mepoch\u001b[0m    \u001b[1mloss\u001b[0m                          \n",
       " \u001b[99m965/\u001b[93m965\u001b[0m\u001b[0m  \u001b[99m00:00:04<\u001b[93m00:00:00\u001b[0m\u001b[0m  \u001b[99m196.34it/s\u001b[0m    \u001b[99m8\u001b[0m    \u001b[99m0.013089\u001b[0m                        "
      ]
     },
     "metadata": {},
     "output_type": "display_data"
    },
    {
     "data": {
      "application/vnd.jupyter.widget-view+json": {
       "model_id": "729798c3534e485d858ad8d8ae05574d",
       "version_major": 2,
       "version_minor": 0
      },
      "text/plain": [
       "IpythonBar(children=(HTML(value='  0.0%'), FloatProgress(value=0.0)))"
      ]
     },
     "metadata": {},
     "output_type": "display_data"
    },
    {
     "name": "stdout",
     "output_type": "stream",
     "text": [
      "Benign loss: 0.012511\n",
      "Malicious loss: 0.027218\n",
      "Separation index: 7.051680\n"
     ]
    },
    {
     "data": {
      "text/plain": [
       "\u001b[K\u001b[F  \u001b[1mIters\u001b[0m     \u001b[1mElapsed Time\u001b[0m       \u001b[1mSpeed\u001b[0m     \u001b[1mepoch\u001b[0m    \u001b[1mloss\u001b[0m                          \n",
       " \u001b[99m965/\u001b[93m965\u001b[0m\u001b[0m  \u001b[99m00:00:04<\u001b[93m00:00:00\u001b[0m\u001b[0m  \u001b[99m194.52it/s\u001b[0m    \u001b[99m9\u001b[0m    \u001b[99m0.011853\u001b[0m                        "
      ]
     },
     "metadata": {},
     "output_type": "display_data"
    },
    {
     "data": {
      "application/vnd.jupyter.widget-view+json": {
       "model_id": "28e912ad472046e1ba5ee91b33746f64",
       "version_major": 2,
       "version_minor": 0
      },
      "text/plain": [
       "IpythonBar(children=(HTML(value='  0.0%'), FloatProgress(value=0.0)))"
      ]
     },
     "metadata": {},
     "output_type": "display_data"
    },
    {
     "name": "stdout",
     "output_type": "stream",
     "text": [
      "Benign loss: 0.011247\n",
      "Malicious loss: 0.024431\n",
      "Separation index: 6.322558\n"
     ]
    },
    {
     "data": {
      "text/plain": [
       "\u001b[K\u001b[F  \u001b[1mIters\u001b[0m     \u001b[1mElapsed Time\u001b[0m       \u001b[1mSpeed\u001b[0m     \u001b[1mepoch\u001b[0m    \u001b[1mloss\u001b[0m                          \n",
       " \u001b[99m965/\u001b[93m965\u001b[0m\u001b[0m  \u001b[99m00:00:04<\u001b[93m00:00:00\u001b[0m\u001b[0m  \u001b[99m193.81it/s\u001b[0m   \u001b[99m10\u001b[0m    \u001b[99m0.010892\u001b[0m                        "
      ]
     },
     "metadata": {},
     "output_type": "display_data"
    },
    {
     "data": {
      "application/vnd.jupyter.widget-view+json": {
       "model_id": "5e4f231ceed84f8aab0512157ad410f6",
       "version_major": 2,
       "version_minor": 0
      },
      "text/plain": [
       "IpythonBar(children=(HTML(value='  0.0%'), FloatProgress(value=0.0)))"
      ]
     },
     "metadata": {},
     "output_type": "display_data"
    },
    {
     "name": "stdout",
     "output_type": "stream",
     "text": [
      "Benign loss: 0.010557\n",
      "Malicious loss: 0.023954\n",
      "Separation index: 6.772951\n"
     ]
    },
    {
     "data": {
      "text/plain": [
       "\u001b[K\u001b[F  \u001b[1mIters\u001b[0m     \u001b[1mElapsed Time\u001b[0m       \u001b[1mSpeed\u001b[0m     \u001b[1mepoch\u001b[0m    \u001b[1mloss\u001b[0m                          \n",
       " \u001b[99m965/\u001b[93m965\u001b[0m\u001b[0m  \u001b[99m00:00:05<\u001b[93m00:00:00\u001b[0m\u001b[0m  \u001b[99m192.23it/s\u001b[0m   \u001b[99m11\u001b[0m    \u001b[99m0.010270\u001b[0m                        "
      ]
     },
     "metadata": {},
     "output_type": "display_data"
    },
    {
     "data": {
      "application/vnd.jupyter.widget-view+json": {
       "model_id": "750b140aca984f37b5e1291363eb210b",
       "version_major": 2,
       "version_minor": 0
      },
      "text/plain": [
       "IpythonBar(children=(HTML(value='  0.0%'), FloatProgress(value=0.0)))"
      ]
     },
     "metadata": {},
     "output_type": "display_data"
    },
    {
     "name": "stdout",
     "output_type": "stream",
     "text": [
      "Benign loss: 0.010009\n",
      "Malicious loss: 0.023875\n",
      "Separation index: 7.261097\n"
     ]
    },
    {
     "data": {
      "text/plain": [
       "\u001b[K\u001b[F  \u001b[1mIters\u001b[0m     \u001b[1mElapsed Time\u001b[0m       \u001b[1mSpeed\u001b[0m     \u001b[1mepoch\u001b[0m    \u001b[1mloss\u001b[0m                          \n",
       " \u001b[99m965/\u001b[93m965\u001b[0m\u001b[0m  \u001b[99m00:00:05<\u001b[93m00:00:00\u001b[0m\u001b[0m  \u001b[99m192.15it/s\u001b[0m   \u001b[99m12\u001b[0m    \u001b[99m0.009736\u001b[0m                        "
      ]
     },
     "metadata": {},
     "output_type": "display_data"
    },
    {
     "data": {
      "application/vnd.jupyter.widget-view+json": {
       "model_id": "a2536849f28b4df4a3b31994e8c6ad47",
       "version_major": 2,
       "version_minor": 0
      },
      "text/plain": [
       "IpythonBar(children=(HTML(value='  0.0%'), FloatProgress(value=0.0)))"
      ]
     },
     "metadata": {},
     "output_type": "display_data"
    },
    {
     "name": "stdout",
     "output_type": "stream",
     "text": [
      "Benign loss: 0.009495\n",
      "Malicious loss: 0.023622\n",
      "Separation index: 7.269249\n"
     ]
    },
    {
     "data": {
      "text/plain": [
       "\u001b[K\u001b[F  \u001b[1mIters\u001b[0m     \u001b[1mElapsed Time\u001b[0m       \u001b[1mSpeed\u001b[0m     \u001b[1mepoch\u001b[0m    \u001b[1mloss\u001b[0m                          \n",
       " \u001b[99m965/\u001b[93m965\u001b[0m\u001b[0m  \u001b[99m00:00:04<\u001b[93m00:00:00\u001b[0m\u001b[0m  \u001b[99m194.01it/s\u001b[0m   \u001b[99m13\u001b[0m    \u001b[99m0.009295\u001b[0m                        "
      ]
     },
     "metadata": {},
     "output_type": "display_data"
    },
    {
     "data": {
      "application/vnd.jupyter.widget-view+json": {
       "model_id": "437505ecf8da44f8b971bc409b05be72",
       "version_major": 2,
       "version_minor": 0
      },
      "text/plain": [
       "IpythonBar(children=(HTML(value='  0.0%'), FloatProgress(value=0.0)))"
      ]
     },
     "metadata": {},
     "output_type": "display_data"
    },
    {
     "name": "stdout",
     "output_type": "stream",
     "text": [
      "Benign loss: 0.009117\n",
      "Malicious loss: 0.023480\n",
      "Separation index: 8.228397\n"
     ]
    },
    {
     "data": {
      "text/plain": [
       "\u001b[K\u001b[F  \u001b[1mIters\u001b[0m     \u001b[1mElapsed Time\u001b[0m       \u001b[1mSpeed\u001b[0m     \u001b[1mepoch\u001b[0m    \u001b[1mloss\u001b[0m                          \n",
       " \u001b[99m965/\u001b[93m965\u001b[0m\u001b[0m  \u001b[99m00:00:05<\u001b[93m00:00:00\u001b[0m\u001b[0m  \u001b[99m191.62it/s\u001b[0m   \u001b[99m14\u001b[0m    \u001b[99m0.008960\u001b[0m                        "
      ]
     },
     "metadata": {},
     "output_type": "display_data"
    },
    {
     "data": {
      "application/vnd.jupyter.widget-view+json": {
       "model_id": "1831bb6e74ad4fcf83bbc256a5842635",
       "version_major": 2,
       "version_minor": 0
      },
      "text/plain": [
       "IpythonBar(children=(HTML(value='  0.0%'), FloatProgress(value=0.0)))"
      ]
     },
     "metadata": {},
     "output_type": "display_data"
    },
    {
     "name": "stdout",
     "output_type": "stream",
     "text": [
      "Benign loss: 0.008807\n",
      "Malicious loss: 0.023517\n",
      "Separation index: 8.396171\n"
     ]
    },
    {
     "data": {
      "text/plain": [
       "\u001b[K\u001b[F  \u001b[1mIters\u001b[0m     \u001b[1mElapsed Time\u001b[0m       \u001b[1mSpeed\u001b[0m     \u001b[1mepoch\u001b[0m    \u001b[1mloss\u001b[0m                          \n",
       " \u001b[99m965/\u001b[93m965\u001b[0m\u001b[0m  \u001b[99m00:00:04<\u001b[93m00:00:00\u001b[0m\u001b[0m  \u001b[99m196.66it/s\u001b[0m   \u001b[99m15\u001b[0m    \u001b[99m0.008672\u001b[0m                        "
      ]
     },
     "metadata": {},
     "output_type": "display_data"
    },
    {
     "data": {
      "application/vnd.jupyter.widget-view+json": {
       "model_id": "fbb93de2f7c549e0ac93a11dd6af4605",
       "version_major": 2,
       "version_minor": 0
      },
      "text/plain": [
       "IpythonBar(children=(HTML(value='  0.0%'), FloatProgress(value=0.0)))"
      ]
     },
     "metadata": {},
     "output_type": "display_data"
    },
    {
     "name": "stdout",
     "output_type": "stream",
     "text": [
      "Benign loss: 0.008559\n",
      "Malicious loss: 0.023041\n",
      "Separation index: 8.022154\n"
     ]
    },
    {
     "data": {
      "text/plain": [
       "\u001b[K\u001b[F  \u001b[1mIters\u001b[0m     \u001b[1mElapsed Time\u001b[0m       \u001b[1mSpeed\u001b[0m     \u001b[1mepoch\u001b[0m    \u001b[1mloss\u001b[0m                          \n",
       " \u001b[99m965/\u001b[93m965\u001b[0m\u001b[0m  \u001b[99m00:00:05<\u001b[93m00:00:00\u001b[0m\u001b[0m  \u001b[99m192.33it/s\u001b[0m   \u001b[99m16\u001b[0m    \u001b[99m0.008471\u001b[0m                        "
      ]
     },
     "metadata": {},
     "output_type": "display_data"
    },
    {
     "data": {
      "application/vnd.jupyter.widget-view+json": {
       "model_id": "18b0821da01b4b919f99f1115329a448",
       "version_major": 2,
       "version_minor": 0
      },
      "text/plain": [
       "IpythonBar(children=(HTML(value='  0.0%'), FloatProgress(value=0.0)))"
      ]
     },
     "metadata": {},
     "output_type": "display_data"
    },
    {
     "name": "stdout",
     "output_type": "stream",
     "text": [
      "Benign loss: 0.008390\n",
      "Malicious loss: 0.022662\n",
      "Separation index: 8.180200\n"
     ]
    },
    {
     "data": {
      "text/plain": [
       "\u001b[K\u001b[F  \u001b[1mIters\u001b[0m     \u001b[1mElapsed Time\u001b[0m       \u001b[1mSpeed\u001b[0m     \u001b[1mepoch\u001b[0m    \u001b[1mloss\u001b[0m                          \n",
       " \u001b[99m965/\u001b[93m965\u001b[0m\u001b[0m  \u001b[99m00:00:04<\u001b[93m00:00:00\u001b[0m\u001b[0m  \u001b[99m194.57it/s\u001b[0m   \u001b[99m17\u001b[0m    \u001b[99m0.008318\u001b[0m                        "
      ]
     },
     "metadata": {},
     "output_type": "display_data"
    },
    {
     "data": {
      "application/vnd.jupyter.widget-view+json": {
       "model_id": "bf5783aba8284b55947348a374e6204f",
       "version_major": 2,
       "version_minor": 0
      },
      "text/plain": [
       "IpythonBar(children=(HTML(value='  0.0%'), FloatProgress(value=0.0)))"
      ]
     },
     "metadata": {},
     "output_type": "display_data"
    },
    {
     "name": "stdout",
     "output_type": "stream",
     "text": [
      "Benign loss: 0.008250\n",
      "Malicious loss: 0.022593\n",
      "Separation index: 8.535637\n"
     ]
    },
    {
     "data": {
      "text/plain": [
       "\u001b[K\u001b[F  \u001b[1mIters\u001b[0m     \u001b[1mElapsed Time\u001b[0m       \u001b[1mSpeed\u001b[0m     \u001b[1mepoch\u001b[0m    \u001b[1mloss\u001b[0m                          \n",
       " \u001b[99m965/\u001b[93m965\u001b[0m\u001b[0m  \u001b[99m00:00:05<\u001b[93m00:00:00\u001b[0m\u001b[0m  \u001b[99m192.67it/s\u001b[0m   \u001b[99m18\u001b[0m    \u001b[99m0.008191\u001b[0m                        "
      ]
     },
     "metadata": {},
     "output_type": "display_data"
    },
    {
     "data": {
      "application/vnd.jupyter.widget-view+json": {
       "model_id": "2090821afa5a4e53a6df3fca6a115395",
       "version_major": 2,
       "version_minor": 0
      },
      "text/plain": [
       "IpythonBar(children=(HTML(value='  0.0%'), FloatProgress(value=0.0)))"
      ]
     },
     "metadata": {},
     "output_type": "display_data"
    },
    {
     "name": "stdout",
     "output_type": "stream",
     "text": [
      "Benign loss: 0.008137\n",
      "Malicious loss: 0.022356\n",
      "Separation index: 8.448005\n"
     ]
    },
    {
     "data": {
      "text/plain": [
       "\u001b[K\u001b[F  \u001b[1mIters\u001b[0m     \u001b[1mElapsed Time\u001b[0m       \u001b[1mSpeed\u001b[0m     \u001b[1mepoch\u001b[0m    \u001b[1mloss\u001b[0m                          \n",
       " \u001b[99m965/\u001b[93m965\u001b[0m\u001b[0m  \u001b[99m00:00:05<\u001b[93m00:00:00\u001b[0m\u001b[0m  \u001b[99m192.46it/s\u001b[0m   \u001b[99m19\u001b[0m    \u001b[99m0.008079\u001b[0m                        "
      ]
     },
     "metadata": {},
     "output_type": "display_data"
    },
    {
     "data": {
      "application/vnd.jupyter.widget-view+json": {
       "model_id": "75e26946f4b94d30967df04b93fd4188",
       "version_major": 2,
       "version_minor": 0
      },
      "text/plain": [
       "IpythonBar(children=(HTML(value='  0.0%'), FloatProgress(value=0.0)))"
      ]
     },
     "metadata": {},
     "output_type": "display_data"
    },
    {
     "name": "stdout",
     "output_type": "stream",
     "text": [
      "Benign loss: 0.008037\n",
      "Malicious loss: 0.021961\n",
      "Separation index: 8.015900\n"
     ]
    },
    {
     "data": {
      "text/plain": [
       "\u001b[K\u001b[F  \u001b[1mIters\u001b[0m     \u001b[1mElapsed Time\u001b[0m       \u001b[1mSpeed\u001b[0m     \u001b[1mepoch\u001b[0m    \u001b[1mloss\u001b[0m                          \n",
       " \u001b[99m965/\u001b[93m965\u001b[0m\u001b[0m  \u001b[99m00:00:04<\u001b[93m00:00:00\u001b[0m\u001b[0m  \u001b[99m196.22it/s\u001b[0m   \u001b[99m20\u001b[0m    \u001b[99m0.007981\u001b[0m                        "
      ]
     },
     "metadata": {},
     "output_type": "display_data"
    },
    {
     "data": {
      "application/vnd.jupyter.widget-view+json": {
       "model_id": "326b24a6e83c40d3a4273e8ff0a692e5",
       "version_major": 2,
       "version_minor": 0
      },
      "text/plain": [
       "IpythonBar(children=(HTML(value='  0.0%'), FloatProgress(value=0.0)))"
      ]
     },
     "metadata": {},
     "output_type": "display_data"
    },
    {
     "name": "stdout",
     "output_type": "stream",
     "text": [
      "Benign loss: 0.007938\n",
      "Malicious loss: 0.021717\n",
      "Separation index: 7.986630\n"
     ]
    },
    {
     "data": {
      "text/plain": [
       "\u001b[K\u001b[F  \u001b[1mIters\u001b[0m     \u001b[1mElapsed Time\u001b[0m       \u001b[1mSpeed\u001b[0m     \u001b[1mepoch\u001b[0m    \u001b[1mloss\u001b[0m                          \n",
       " \u001b[99m965/\u001b[93m965\u001b[0m\u001b[0m  \u001b[99m00:00:04<\u001b[93m00:00:00\u001b[0m\u001b[0m  \u001b[99m193.78it/s\u001b[0m   \u001b[99m21\u001b[0m    \u001b[99m0.007889\u001b[0m                        "
      ]
     },
     "metadata": {},
     "output_type": "display_data"
    },
    {
     "data": {
      "application/vnd.jupyter.widget-view+json": {
       "model_id": "58d524c3dadb420ca15cd0be6f4e7cd2",
       "version_major": 2,
       "version_minor": 0
      },
      "text/plain": [
       "IpythonBar(children=(HTML(value='  0.0%'), FloatProgress(value=0.0)))"
      ]
     },
     "metadata": {},
     "output_type": "display_data"
    },
    {
     "name": "stdout",
     "output_type": "stream",
     "text": [
      "Benign loss: 0.007844\n",
      "Malicious loss: 0.021280\n",
      "Separation index: 8.179583\n"
     ]
    },
    {
     "data": {
      "text/plain": [
       "\u001b[K\u001b[F  \u001b[1mIters\u001b[0m     \u001b[1mElapsed Time\u001b[0m       \u001b[1mSpeed\u001b[0m     \u001b[1mepoch\u001b[0m    \u001b[1mloss\u001b[0m                          \n",
       " \u001b[99m965/\u001b[93m965\u001b[0m\u001b[0m  \u001b[99m00:00:04<\u001b[93m00:00:00\u001b[0m\u001b[0m  \u001b[99m193.52it/s\u001b[0m   \u001b[99m22\u001b[0m    \u001b[99m0.007808\u001b[0m                        "
      ]
     },
     "metadata": {},
     "output_type": "display_data"
    },
    {
     "data": {
      "application/vnd.jupyter.widget-view+json": {
       "model_id": "e3d64f706c1845e187d74eb6da0992f3",
       "version_major": 2,
       "version_minor": 0
      },
      "text/plain": [
       "IpythonBar(children=(HTML(value='  0.0%'), FloatProgress(value=0.0)))"
      ]
     },
     "metadata": {},
     "output_type": "display_data"
    },
    {
     "name": "stdout",
     "output_type": "stream",
     "text": [
      "Benign loss: 0.007772\n",
      "Malicious loss: 0.021121\n",
      "Separation index: 8.188422\n"
     ]
    },
    {
     "data": {
      "text/plain": [
       "\u001b[K\u001b[F  \u001b[1mIters\u001b[0m     \u001b[1mElapsed Time\u001b[0m       \u001b[1mSpeed\u001b[0m     \u001b[1mepoch\u001b[0m    \u001b[1mloss\u001b[0m                          \n",
       " \u001b[99m965/\u001b[93m965\u001b[0m\u001b[0m  \u001b[99m00:00:05<\u001b[93m00:00:00\u001b[0m\u001b[0m  \u001b[99m191.39it/s\u001b[0m   \u001b[99m23\u001b[0m    \u001b[99m0.007738\u001b[0m                        "
      ]
     },
     "metadata": {},
     "output_type": "display_data"
    },
    {
     "data": {
      "application/vnd.jupyter.widget-view+json": {
       "model_id": "32758cb12fd4492a8c53731f97b52063",
       "version_major": 2,
       "version_minor": 0
      },
      "text/plain": [
       "IpythonBar(children=(HTML(value='  0.0%'), FloatProgress(value=0.0)))"
      ]
     },
     "metadata": {},
     "output_type": "display_data"
    },
    {
     "name": "stdout",
     "output_type": "stream",
     "text": [
      "Benign loss: 0.007706\n",
      "Malicious loss: 0.020707\n",
      "Separation index: 7.756159\n"
     ]
    },
    {
     "data": {
      "text/plain": [
       "\u001b[K\u001b[F  \u001b[1mIters\u001b[0m     \u001b[1mElapsed Time\u001b[0m       \u001b[1mSpeed\u001b[0m     \u001b[1mepoch\u001b[0m    \u001b[1mloss\u001b[0m                          \n",
       " \u001b[99m965/\u001b[93m965\u001b[0m\u001b[0m  \u001b[99m00:00:05<\u001b[93m00:00:00\u001b[0m\u001b[0m  \u001b[99m191.03it/s\u001b[0m   \u001b[99m24\u001b[0m    \u001b[99m0.007674\u001b[0m                        "
      ]
     },
     "metadata": {},
     "output_type": "display_data"
    },
    {
     "data": {
      "application/vnd.jupyter.widget-view+json": {
       "model_id": "f377c0000bfc4e6c978b1f53816ce831",
       "version_major": 2,
       "version_minor": 0
      },
      "text/plain": [
       "IpythonBar(children=(HTML(value='  0.0%'), FloatProgress(value=0.0)))"
      ]
     },
     "metadata": {},
     "output_type": "display_data"
    },
    {
     "name": "stdout",
     "output_type": "stream",
     "text": [
      "Benign loss: 0.007639\n",
      "Malicious loss: 0.020333\n",
      "Separation index: 7.758709\n"
     ]
    },
    {
     "data": {
      "text/plain": [
       "\u001b[K\u001b[F  \u001b[1mIters\u001b[0m     \u001b[1mElapsed Time\u001b[0m       \u001b[1mSpeed\u001b[0m     \u001b[1mepoch\u001b[0m    \u001b[1mloss\u001b[0m                          \n",
       " \u001b[99m965/\u001b[93m965\u001b[0m\u001b[0m  \u001b[99m00:00:04<\u001b[93m00:00:00\u001b[0m\u001b[0m  \u001b[99m194.52it/s\u001b[0m   \u001b[99m25\u001b[0m    \u001b[99m0.007610\u001b[0m                        "
      ]
     },
     "metadata": {},
     "output_type": "display_data"
    },
    {
     "data": {
      "application/vnd.jupyter.widget-view+json": {
       "model_id": "9a05d61dbf1a47868e50f53aeca855ac",
       "version_major": 2,
       "version_minor": 0
      },
      "text/plain": [
       "IpythonBar(children=(HTML(value='  0.0%'), FloatProgress(value=0.0)))"
      ]
     },
     "metadata": {},
     "output_type": "display_data"
    },
    {
     "name": "stdout",
     "output_type": "stream",
     "text": [
      "Benign loss: 0.007571\n",
      "Malicious loss: 0.019901\n",
      "Separation index: 7.325724\n"
     ]
    },
    {
     "data": {
      "text/plain": [
       "\u001b[K\u001b[F  \u001b[1mIters\u001b[0m     \u001b[1mElapsed Time\u001b[0m       \u001b[1mSpeed\u001b[0m     \u001b[1mepoch\u001b[0m    \u001b[1mloss\u001b[0m                          \n",
       " \u001b[99m965/\u001b[93m965\u001b[0m\u001b[0m  \u001b[99m00:00:05<\u001b[93m00:00:00\u001b[0m\u001b[0m  \u001b[99m192.77it/s\u001b[0m   \u001b[99m26\u001b[0m    \u001b[99m0.007531\u001b[0m                        "
      ]
     },
     "metadata": {},
     "output_type": "display_data"
    },
    {
     "data": {
      "application/vnd.jupyter.widget-view+json": {
       "model_id": "eda8c67cc18247cfb3ab7583bfd87584",
       "version_major": 2,
       "version_minor": 0
      },
      "text/plain": [
       "IpythonBar(children=(HTML(value='  0.0%'), FloatProgress(value=0.0)))"
      ]
     },
     "metadata": {},
     "output_type": "display_data"
    },
    {
     "name": "stdout",
     "output_type": "stream",
     "text": [
      "Benign loss: 0.007486\n",
      "Malicious loss: 0.019904\n",
      "Separation index: 7.222518\n"
     ]
    },
    {
     "data": {
      "text/plain": [
       "\u001b[K\u001b[F  \u001b[1mIters\u001b[0m     \u001b[1mElapsed Time\u001b[0m       \u001b[1mSpeed\u001b[0m     \u001b[1mepoch\u001b[0m    \u001b[1mloss\u001b[0m                          \n",
       " \u001b[99m965/\u001b[93m965\u001b[0m\u001b[0m  \u001b[99m00:00:05<\u001b[93m00:00:00\u001b[0m\u001b[0m  \u001b[99m190.94it/s\u001b[0m   \u001b[99m27\u001b[0m    \u001b[99m0.007449\u001b[0m                        "
      ]
     },
     "metadata": {},
     "output_type": "display_data"
    },
    {
     "data": {
      "application/vnd.jupyter.widget-view+json": {
       "model_id": "d09bcaa0e8104bf481622b441eee5710",
       "version_major": 2,
       "version_minor": 0
      },
      "text/plain": [
       "IpythonBar(children=(HTML(value='  0.0%'), FloatProgress(value=0.0)))"
      ]
     },
     "metadata": {},
     "output_type": "display_data"
    },
    {
     "name": "stdout",
     "output_type": "stream",
     "text": [
      "Benign loss: 0.007417\n",
      "Malicious loss: 0.019510\n",
      "Separation index: 7.336598\n"
     ]
    },
    {
     "data": {
      "text/plain": [
       "\u001b[K\u001b[F  \u001b[1mIters\u001b[0m     \u001b[1mElapsed Time\u001b[0m       \u001b[1mSpeed\u001b[0m     \u001b[1mepoch\u001b[0m    \u001b[1mloss\u001b[0m                          \n",
       " \u001b[99m965/\u001b[93m965\u001b[0m\u001b[0m  \u001b[99m00:00:04<\u001b[93m00:00:00\u001b[0m\u001b[0m  \u001b[99m193.99it/s\u001b[0m   \u001b[99m28\u001b[0m    \u001b[99m0.007368\u001b[0m                        "
      ]
     },
     "metadata": {},
     "output_type": "display_data"
    },
    {
     "data": {
      "application/vnd.jupyter.widget-view+json": {
       "model_id": "2a32af9ce254477990dd3a59f4f356d5",
       "version_major": 2,
       "version_minor": 0
      },
      "text/plain": [
       "IpythonBar(children=(HTML(value='  0.0%'), FloatProgress(value=0.0)))"
      ]
     },
     "metadata": {},
     "output_type": "display_data"
    },
    {
     "name": "stdout",
     "output_type": "stream",
     "text": [
      "Benign loss: 0.007260\n",
      "Malicious loss: 0.018892\n",
      "Separation index: 7.836537\n"
     ]
    },
    {
     "data": {
      "text/plain": [
       "\u001b[K\u001b[F  \u001b[1mIters\u001b[0m     \u001b[1mElapsed Time\u001b[0m       \u001b[1mSpeed\u001b[0m     \u001b[1mepoch\u001b[0m    \u001b[1mloss\u001b[0m                          \n",
       " \u001b[99m965/\u001b[93m965\u001b[0m\u001b[0m  \u001b[99m00:00:05<\u001b[93m00:00:00\u001b[0m\u001b[0m  \u001b[99m190.65it/s\u001b[0m   \u001b[99m29\u001b[0m    \u001b[99m0.007152\u001b[0m                        "
      ]
     },
     "metadata": {},
     "output_type": "display_data"
    },
    {
     "data": {
      "application/vnd.jupyter.widget-view+json": {
       "model_id": "4aadeec8eb484c2aa96cb9ee570ffe5b",
       "version_major": 2,
       "version_minor": 0
      },
      "text/plain": [
       "IpythonBar(children=(HTML(value='  0.0%'), FloatProgress(value=0.0)))"
      ]
     },
     "metadata": {},
     "output_type": "display_data"
    },
    {
     "name": "stdout",
     "output_type": "stream",
     "text": [
      "Benign loss: 0.007046\n",
      "Malicious loss: 0.018557\n",
      "Separation index: 7.710132\n"
     ]
    },
    {
     "data": {
      "text/plain": [
       "\u001b[K\u001b[F  \u001b[1mIters\u001b[0m     \u001b[1mElapsed Time\u001b[0m       \u001b[1mSpeed\u001b[0m     \u001b[1mepoch\u001b[0m    \u001b[1mloss\u001b[0m                          \n",
       " \u001b[99m965/\u001b[93m965\u001b[0m\u001b[0m  \u001b[99m00:00:05<\u001b[93m00:00:00\u001b[0m\u001b[0m  \u001b[99m191.37it/s\u001b[0m   \u001b[99m30\u001b[0m    \u001b[99m0.007014\u001b[0m                        "
      ]
     },
     "metadata": {},
     "output_type": "display_data"
    },
    {
     "data": {
      "application/vnd.jupyter.widget-view+json": {
       "model_id": "3d1f569c783b4bcb95343d055fccd007",
       "version_major": 2,
       "version_minor": 0
      },
      "text/plain": [
       "IpythonBar(children=(HTML(value='  0.0%'), FloatProgress(value=0.0)))"
      ]
     },
     "metadata": {},
     "output_type": "display_data"
    },
    {
     "name": "stdout",
     "output_type": "stream",
     "text": [
      "Benign loss: 0.006979\n",
      "Malicious loss: 0.018348\n",
      "Separation index: 7.244195\n"
     ]
    }
   ],
   "source": [
    "num_epochs = 30\n",
    "batch_size = 1024\n",
    "learning_rate = 1e-4\n",
    "\n",
    "in_dim = len(data[0])\n",
    "print(f'Training with {in_dim} features')\n",
    "\n",
    "model = WeirdTrafficNet(in_dim).cuda()\n",
    "\n",
    "optimizer = Adam(model.parameters(), lr=learning_rate)\n",
    "\n",
    "benign_dataloader = DataLoader(benign_dataset, batch_size=batch_size, shuffle=True, num_workers=0)\n",
    "malicious_dataloader = DataLoader(malicious_dataset, batch_size=batch_size, shuffle=True, num_workers=0)\n",
    "\n",
    "loss_hist = []\n",
    "epoch_loss_benign = []\n",
    "epoch_loss_malicious = []\n",
    "\n",
    "for epoch in range(num_epochs):\n",
    "\tmodel.train()\n",
    "\tloss_mean = []\n",
    "\tprogbar = qqdm(benign_dataloader)\n",
    "\tfor data in progbar:\n",
    "\t\tx = data[0]\n",
    "\n",
    "\t\t#Forward\n",
    "\t\toutput = model(x)\n",
    "\t\tloss = criterion(output, x)\n",
    "\t\tloss_hist.append(loss.item())\n",
    "\t\tloss_mean.append(loss.item())\n",
    "\n",
    "\t\t#Backward\n",
    "\t\toptimizer.zero_grad()\n",
    "\t\tloss.backward()\n",
    "\t\toptimizer.step()\n",
    "\n",
    "\t\t#Stats\n",
    "\t\t#loss_mean = np.mean(loss_mean)\n",
    "\n",
    "\t\tprogbar.set_infos({\n",
    "\t\t\t'epoch': f'{epoch+1}',\n",
    "\t\t\t'loss': f'{np.mean(loss_mean):.6f}'\n",
    "\t\t})\n",
    "\t\n",
    "\t#Eval epoch\n",
    "\tmodel.eval()\n",
    "\tloss_mean = []\n",
    "\n",
    "\t#Eval benign data\n",
    "\tfor data in benign_dataloader:\n",
    "\t\tx = data[0]\n",
    "\n",
    "\t\t#Forward\n",
    "\t\toutput = model(x)\n",
    "\t\tloss = criterion(output, x)\n",
    "\t\tloss_mean.append(loss.item())\n",
    "\t\n",
    "\tbenign_loss = np.mean(loss_mean)\n",
    "\tbenign_losses = loss_mean\n",
    "\n",
    "\tloss_mean = []\n",
    "\n",
    "\t#Eval malicious data\n",
    "\tfor data in malicious_dataloader:\n",
    "\t\tx = data[0]\n",
    "\n",
    "\t\t#Forward\n",
    "\t\toutput = model(x)\n",
    "\t\tloss = criterion(output, x)\n",
    "\t\tloss_mean.append(loss.item())\n",
    "\t\n",
    "\tmalicious_loss = np.mean(loss_mean)\n",
    "\tmalicious_losses = loss_mean\n",
    "\n",
    "\tepoch_loss_benign.append(benign_loss)\n",
    "\tepoch_loss_malicious.append(malicious_loss)\n",
    "\tprint(f'Benign loss: {benign_loss:.6f}')\n",
    "\tprint(f'Malicious loss: {malicious_loss:.6f}')\n",
    "\tprint(f'Separation index: {separation_index(benign_losses, malicious_losses):.6f}')"
   ]
  },
  {
   "cell_type": "markdown",
   "metadata": {},
   "source": [
    "# Plot Loss"
   ]
  },
  {
   "cell_type": "code",
   "execution_count": 31,
   "metadata": {},
   "outputs": [
    {
     "data": {
      "image/png": "[encoded data removed]",
      "text/plain": [
       "<Figure size 1200x800 with 1 Axes>"
      ]
     },
     "metadata": {
      "needs_background": "light"
     },
     "output_type": "display_data"
    },
    {
     "data": {
      "image/png": "[encoded data removed]",
      "text/plain": [
       "<Figure size 1200x800 with 1 Axes>"
      ]
     },
     "metadata": {
      "needs_background": "light"
     },
     "output_type": "display_data"
    }
   ],
   "source": [
    "plt.figure(dpi=200)\n",
    "plt.plot(loss_hist[:])\n",
    "plt.ylabel('Loss (MSE)')\n",
    "plt.xlabel('Iteration')\n",
    "plt.show()\n",
    "\n",
    "plt.figure(dpi=200)\n",
    "plt.plot(epoch_loss_benign, label = 'Benign')\n",
    "plt.plot(epoch_loss_malicious, label = 'Malicious')\n",
    "plt.legend()\n",
    "plt.ylabel('Mean Loss (MSE)')\n",
    "plt.xlabel('Epoch')\n",
    "plt.show()"
   ]
  },
  {
   "cell_type": "markdown",
   "metadata": {},
   "source": [
    "# Testing Model on New Days"
   ]
  },
  {
   "cell_type": "code",
   "execution_count": 32,
   "metadata": {},
   "outputs": [],
   "source": [
    "def test_model_on_day(model, criterion, columns_to_keep, filename, normalization):\n",
    "\tdata, labels, columns, label2num, num2label, normalization = load_and_clean_CSV(filename, normalization=normalization)#, columns_to_keep)\n",
    "\tmodel.eval()\n",
    "\n",
    "\tstr_labels = []\n",
    "\tlosses = []\n",
    "\tseperations = []\n",
    "\n",
    "\tfor label_idx in range(len(label2num)):\n",
    "\t\tloss_hist = []\n",
    "\t\tstr_labels.append(num2label[label_idx])\n",
    "\t\tsub_data = extract_subsample(data, labels, label_idx, 5000)\n",
    "\n",
    "\t\t\n",
    "\t\t#Load data\n",
    "\t\tsub_data = torch.from_numpy(sub_data).float()\n",
    "\t\tsub_data = sub_data.cuda()\n",
    "\n",
    "\t\t#Forward\n",
    "\t\tfor data_i in sub_data:\n",
    "\t\t\t# x = data\n",
    "\t\t\toutput = model(data_i)\n",
    "\t\t\tloss = criterion(output,data_i)\n",
    "\t\t\tloss_hist.append(loss.item())\n",
    "\n",
    "\t\t#Stats\n",
    "\t\tlosses.append(loss_hist)\n",
    "\t\n",
    "\tfor label_idx in range(len(label2num)):\n",
    "\t\tif label_idx == label2num['Benign']:\n",
    "\t\t\tcontinue\n",
    "\n",
    "\t\tprint(num2label[label_idx],'separation:', separation_index(losses[label2num['Benign']], losses[label_idx]))\n",
    "\n",
    "\n",
    "\n",
    "\treturn str_labels, losses"
   ]
  },
  {
   "cell_type": "markdown",
   "metadata": {},
   "source": [
    "# Test Model on 2/14"
   ]
  },
  {
   "cell_type": "code",
   "execution_count": 33,
   "metadata": {},
   "outputs": [
    {
     "name": "stdout",
     "output_type": "stream",
     "text": [
      "Label : Key ->\n",
      "{'Benign': 0, 'FTP-BruteForce': 1, 'SSH-Bruteforce': 2}\n",
      "0    663808\n",
      "1    193354\n",
      "2    187589\n",
      "Name: Label, dtype: int64\n",
      "FTP-BruteForce separation: 0.16509459911343646\n",
      "SSH-Bruteforce separation: 0.3599712783657468\n"
     ]
    }
   ],
   "source": [
    "#good days: 2/14, 2/15, 2/21, 2/22, 2/23\n",
    "day_labels, day_losses = test_model_on_day(model, criterion, columns_to_keep, '02-14-2018.csv', normalization)"
   ]
  },
  {
   "cell_type": "code",
   "execution_count": 34,
   "metadata": {},
   "outputs": [
    {
     "data": {
      "text/plain": [
       "(0.0, 0.185)"
      ]
     },
     "execution_count": 34,
     "metadata": {},
     "output_type": "execute_result"
    },
    {
     "data": {
      "image/png": "[encoded data removed]",
      "text/plain": [
       "<Figure size 1200x800 with 1 Axes>"
      ]
     },
     "metadata": {
      "needs_background": "light"
     },
     "output_type": "display_data"
    }
   ],
   "source": [
    "fig = plt.figure(dpi=200)\n",
    "plt.boxplot(day_losses)\n",
    "plt.xticks(list(range(1,len(day_losses)+1)), day_labels)\n",
    "plt.ylim(0,0.185)"
   ]
  },
  {
   "cell_type": "markdown",
   "metadata": {},
   "source": [
    "# Save Model"
   ]
  },
  {
   "cell_type": "code",
   "execution_count": 35,
   "metadata": {},
   "outputs": [],
   "source": [
    "torch.save(model, './2018_model.pth')"
   ]
  },
  {
   "cell_type": "code",
   "execution_count": 36,
   "metadata": {},
   "outputs": [],
   "source": [
    "# model = torch.load('./19-2-0006-50-35-5.pth')\n",
    "# model.eval()"
   ]
  },
  {
   "cell_type": "markdown",
   "metadata": {},
   "source": [
    "# Save Normalization Data"
   ]
  },
  {
   "cell_type": "code",
   "execution_count": 37,
   "metadata": {},
   "outputs": [],
   "source": [
    "import pickle\n",
    "with open('./normalization.data','wb') as f:\n",
    "\tpickle.dump(normalization, f, pickle.HIGHEST_PROTOCOL)"
   ]
  }
 ],
 "metadata": {
  "interpreter": {
   "hash": "6d4cbe4fe6a33e4d72c9a2990f07f1aeb20aae8182e4dceeb23ed7c7096de238"
  },
  "kernelspec": {
   "display_name": "Python 3.9.7 ('base')",
   "language": "python",
   "name": "python3"
  },
  "language_info": {
   "codemirror_mode": {
    "name": "ipython",
    "version": 3
   },
   "file_extension": ".py",
   "mimetype": "text/x-python",
   "name": "python",
   "nbconvert_exporter": "python",
   "pygments_lexer": "ipython3",
   "version": "3.9.7"
  },
  "orig_nbformat": 4
 },
 "nbformat": 4,
 "nbformat_minor": 2
}
